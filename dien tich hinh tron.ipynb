{
 "cells": [
  {
   "cell_type": "code",
   "execution_count": 1,
   "id": "b8f3bfaa",
   "metadata": {},
   "outputs": [
    {
     "name": "stdout",
     "output_type": "stream",
     "text": [
      "Nhập vào bán kính: 50\n",
      "Diện tích của hình tròn có bán kính = 50.0 là: 7.202671944715789e+24\n"
     ]
    }
   ],
   "source": [
    "import turtle as t\n",
    "import math\n",
    "def draw(a):\n",
    "    pen = t.Turtle()\n",
    "    t.circle(a)\n",
    "    t.done()\n",
    "\n",
    "    \n",
    "def area(a):\n",
    "    return math.pi ** r\n",
    "\n",
    "r = float(input(\"Nhập vào bán kính: \"))\n",
    "draw(r)\n",
    "s = area(r)\n",
    "print(\"Diện tích của hình tròn có bán kính = {} là: {}\".format(r, s))"
   ]
  }
 ],
 "metadata": {
  "kernelspec": {
   "display_name": "Python 3 (ipykernel)",
   "language": "python",
   "name": "python3"
  },
  "language_info": {
   "codemirror_mode": {
    "name": "ipython",
    "version": 3
   },
   "file_extension": ".py",
   "mimetype": "text/x-python",
   "name": "python",
   "nbconvert_exporter": "python",
   "pygments_lexer": "ipython3",
   "version": "3.9.5"
  }
 },
 "nbformat": 4,
 "nbformat_minor": 5
}
